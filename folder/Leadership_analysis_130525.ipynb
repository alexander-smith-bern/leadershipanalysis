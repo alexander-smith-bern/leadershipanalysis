{
  "metadata": {
    "kernelspec": {
      "name": "python",
      "display_name": "Python (Pyodide)",
      "language": "python"
    },
    "language_info": {
      "codemirror_mode": {
        "name": "python",
        "version": 3
      },
      "file_extension": ".py",
      "mimetype": "text/x-python",
      "name": "python",
      "nbconvert_exporter": "python",
      "pygments_lexer": "ipython3",
      "version": "3.8"
    }
  },
  "nbformat_minor": 5,
  "nbformat": 4,
  "cells": [
    {
      "id": "0d8153c0-afc5-436a-a122-3f36612b9917",
      "cell_type": "markdown",
      "source": "# Contact Information ",
      "metadata": {}
    },
    {
      "id": "b39025fa-9d7e-4c89-9d95-9ea3d07e1bc9",
      "cell_type": "markdown",
      "source": "Name: Alexander Smith\n\nEmail: alexander.smith@unibe.ch\n\nWebsite: https://www.fpd.unibe.ch/",
      "metadata": {}
    },
    {
      "id": "62f9b4eb-a4d9-42de-94a2-c2f54820e0e0",
      "cell_type": "markdown",
      "source": "# Analysis Start",
      "metadata": {}
    },
    {
      "id": "6a0bbcad-a96c-4175-a6e2-3539624be9dd",
      "cell_type": "markdown",
      "source": "The data was analysed ",
      "metadata": {}
    },
    {
      "id": "2ba00ac7-26f2-4920-8fce-323e25933cbc",
      "cell_type": "code",
      "source": "",
      "metadata": {
        "trusted": true
      },
      "outputs": [],
      "execution_count": null
    }
  ]
}